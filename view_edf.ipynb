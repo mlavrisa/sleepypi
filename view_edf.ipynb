{
 "cells": [
  {
   "cell_type": "code",
   "execution_count": 4,
   "id": "f2ce6463-a908-46e8-bae3-f55e69c2cbc2",
   "metadata": {},
   "outputs": [
    {
     "name": "stdout",
     "output_type": "stream",
     "text": [
      "Using matplotlib backend: Qt5Agg\n"
     ]
    }
   ],
   "source": [
    "%matplotlib\n",
    "import numpy as np\n",
    "import matplotlib.pyplot as plt\n",
    "from scipy.signal import morlet2, correlate\n",
    "from pyedflib.highlevel import read_edf\n",
    "from xml.dom import minidom\n",
    "from os.path import join"
   ]
  },
  {
   "cell_type": "code",
   "execution_count": 18,
   "id": "81331c45-03e2-411c-9db6-cca29db16bf1",
   "metadata": {},
   "outputs": [],
   "source": [
    "basepath = \"C:/Users/mtlav/Development/personal-projects/sleepypi/lunaR/edfs\"\n",
    "edf = \"learn-nsrr01.edf\"\n",
    "annot = \"learn-nsrr01-profusion.xml\"\n",
    "\n",
    "xml = minidom.parse(join(basepath, annot))\n",
    "signals, sig_info, headers = read_edf(join(basepath, edf))\n",
    "\n",
    "sleep_stages = np.array([int(st.firstChild.data) for st in xml.getElementsByTagName(\"SleepStage\")])"
   ]
  },
  {
   "cell_type": "code",
   "execution_count": 19,
   "id": "082ec12a-02eb-4c91-90ce-bc68af87bef2",
   "metadata": {},
   "outputs": [],
   "source": [
    "plt.close(\"all\")\n",
    "\n",
    "_, ax = plt.subplots(1, 1)\n",
    "ax.plot(signals[1])\n",
    "ax.plot(np.arange(sleep_stages.size) * 30, sleep_stages * 10)\n",
    "plt.show()"
   ]
  },
  {
   "cell_type": "code",
   "execution_count": null,
   "id": "0bc245f8-5621-415b-a493-6e01cb20f8ef",
   "metadata": {},
   "outputs": [],
   "source": []
  }
 ],
 "metadata": {
  "kernelspec": {
   "display_name": "Python [conda env:sleepypi]",
   "language": "python",
   "name": "conda-env-sleepypi-py"
  },
  "language_info": {
   "codemirror_mode": {
    "name": "ipython",
    "version": 3
   },
   "file_extension": ".py",
   "mimetype": "text/x-python",
   "name": "python",
   "nbconvert_exporter": "python",
   "pygments_lexer": "ipython3",
   "version": "3.7.11"
  }
 },
 "nbformat": 4,
 "nbformat_minor": 5
}
