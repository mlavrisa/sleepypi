{
 "cells": [
  {
   "cell_type": "code",
   "execution_count": 36,
   "id": "072e9ead-19bb-4aff-8a71-90a737848129",
   "metadata": {},
   "outputs": [
    {
     "name": "stdout",
     "output_type": "stream",
     "text": [
      "Using matplotlib backend: Qt5Agg\n"
     ]
    }
   ],
   "source": [
    "%matplotlib\n",
    "import numpy as np\n",
    "import matplotlib.pyplot as plt\n",
    "from scipy.io import loadmat\n",
    "from scipy.signal import (\n",
    "    correlate,\n",
    "    cspline1d,\n",
    "    morlet2,\n",
    ")\n",
    "from tqdm import trange, tqdm\n",
    "from pyedflib import highlevel as edf"
   ]
  },
  {
   "cell_type": "code",
   "execution_count": 37,
   "id": "d74889db-0af7-4e56-8772-2ad21f019dd3",
   "metadata": {},
   "outputs": [],
   "source": [
    "def wavefinding_cwt(signal, widths, omega=5):\n",
    "    output = np.empty((len(widths), len(signal)), dtype=np.complex128)\n",
    "    for ind, width in enumerate(widths):\n",
    "        # go for an odd window length about 8x the length of the width\n",
    "        N = round(4 * width - 0.5) * 2 + 1\n",
    "        N = np.min([N, len(signal)])\n",
    "        wavelet_data = morlet2(N, width, omega)\n",
    "        # using correlate instead of convolve\n",
    "        output[ind] = correlate(\n",
    "            signal.astype(np.complex128), wavelet_data, mode=\"same\"\n",
    "        ) * np.exp(-1.0j * omega * np.arange(len(signal)) / width)\n",
    "    return output"
   ]
  },
  {
   "cell_type": "code",
   "execution_count": null,
   "id": "7a296303-489f-48fb-9a69-09c64fa7d710",
   "metadata": {},
   "outputs": [],
   "source": [
    "############################\n",
    "### REC FILE DESCRIPTION ###\n",
    "############################\n",
    "\n",
    "# Channel number\tType of the signal\tLabel\t\tFrequency rate/Hz\tButterworth\t\tNotch filter\tDescription\n",
    "# 1\t\t\t\t\tEOG\t\t\t\t\tLOC-A2\t\t200\t\t\t\t\t0.3 Hz–35 Hz\t50 Hz\t\t\tLeft eyes movements\n",
    "# 2\t\t\t\t\t\"\t\t\t\t\tROC-A1\t\t\t\t\t\t\t\t\t\t\t\t\t\t\tRight eyes movements\n",
    "# 3\t\t\t\t\tEEG\t\t\t\t\tF3-A2\t\t200\t\t\t\t\t0.3 Hz–35 Hz\t50 Hz\t\t\tBrain channels with the references A1 and A2, which placed in the left and right ear-lobes\n",
    "# 4\t\t\t\t\t\t\t\t\t\tC3-A2\n",
    "# 5\t\t\t\t\t\t\t\t\t\tO1-A2\n",
    "# 6\t\t\t\t\t\t\t\t\t\tF4-A1\n",
    "# 7\t\t\t\t\t\t\t\t\t\tC4-A1\n",
    "# 8\t\t\t\t\t\t\t\t\t\tO2-A1\n",
    "# 9\t\t\t\t\tChin EMG\t\t\tX1\t\t\t200\t\t\t\t\t10 Hz–70 Hz\t\t50 Hz\t\t\tChin EMG, placed between the chin and the lower lip\n",
    "# 10\t\t\t\tECG (EKG)\t\t\tX2\t\t\t200\t\t\t\t\t\t\t\t\t50 Hz\t\t\tElectrocardiographic\n",
    "# 11\t\t\t\tLeg-1 EMG\t\t\tX3\t\t\t200\t\t\t\t\t10 Hz–70 Hz\t\t50 Hz\t\t\tLeft leg movement\n",
    "# 12\t\t\t\tLeg-2 EMG\t\t\tX4\t\t\t\t\t\t\t\t\t\t\t\t\t\t\t\tRight leg movement\n",
    "# 13\t\t\t\tSnore\t\t\t\tX5\t\t\t200\t\t\t\t\t10 Hz–70 Hz\t\t50 Hz\t\t\tSnore (derived)\n",
    "# 14\t\t\t\tFlow-1\t\t\t\tX6\t\t\t12.5\t\t\t\t\t\t\t\t\t\t\t\tAirflow (pressure based)\n",
    "# 15\t\t\t\tFlow-2\t\t\t\tDC3\t\t\t25\n",
    "# 16\t\t\t\tAbdominal\t\t\tX7\t\t\t25\t\t\t\t\t\t\t\t\t\t\t\t\tAbdominal efforts\n",
    "# 17\t\t\t\t\t\t\t\t\tX8\n",
    "# 18\t\t\t\tPulse oximetry\t\tSaO2\t\t12.5\t\t\t\t\t\t\t\t\t\t\t\tPulse oximetry (SaO2)\n",
    "# 19\t\t\t\tBody position\t\tDC8\t\t\t25\t\t\t\t\t\t\t\t\t\t\t\t\tBody position (BPOS)"
   ]
  },
  {
   "cell_type": "code",
   "execution_count": 58,
   "id": "70a60f3e-ba46-4db1-889c-450393b5a52c",
   "metadata": {},
   "outputs": [
    {
     "name": "stdout",
     "output_type": "stream",
     "text": [
      "(0, {'label': 'LOC-A2', 'dimension': 'uV', 'sample_rate': 400.0, 'sample_frequency': 400.0, 'physical_max': 25.0, 'physical_min': -25.0, 'digital_max': 32767, 'digital_min': -32768, 'prefilter': 'High Cut:35 Hz,Low Cut:0.3 Hz,Notch:50 Hz', 'transducer': 'EOG_Channel'})\n",
      "(1, {'label': 'ROC-A1', 'dimension': 'uV', 'sample_rate': 400.0, 'sample_frequency': 400.0, 'physical_max': 25.0, 'physical_min': -25.0, 'digital_max': 32767, 'digital_min': -32768, 'prefilter': 'High Cut:35 Hz,Low Cut:0.3 Hz,Notch:50 Hz', 'transducer': 'EOG2_Channel'})\n",
      "(2, {'label': 'F3-A2', 'dimension': 'uV', 'sample_rate': 400.0, 'sample_frequency': 400.0, 'physical_max': 25.0, 'physical_min': -25.0, 'digital_max': 32767, 'digital_min': -32768, 'prefilter': 'High Cut:35 Hz,Low Cut:0.3 Hz,Notch:50 Hz', 'transducer': 'EEG_Channel'})\n",
      "(3, {'label': 'C3-A2', 'dimension': 'uV', 'sample_rate': 400.0, 'sample_frequency': 400.0, 'physical_max': 25.0, 'physical_min': -25.0, 'digital_max': 32767, 'digital_min': -32768, 'prefilter': 'High Cut:35 Hz,Low Cut:0.3 Hz,Notch:50 Hz', 'transducer': 'EEG_Channel'})\n",
      "(4, {'label': 'O1-A2', 'dimension': 'uV', 'sample_rate': 400.0, 'sample_frequency': 400.0, 'physical_max': 25.0, 'physical_min': -25.0, 'digital_max': 32767, 'digital_min': -32768, 'prefilter': 'High Cut:35 Hz,Low Cut:0.3 Hz,Notch:50 Hz', 'transducer': 'EEG_Channel'})\n",
      "(5, {'label': 'F4-A1', 'dimension': 'uV', 'sample_rate': 400.0, 'sample_frequency': 400.0, 'physical_max': 25.0, 'physical_min': -25.0, 'digital_max': 32767, 'digital_min': -32768, 'prefilter': 'High Cut:35 Hz,Low Cut:0.3 Hz,Notch:50 Hz', 'transducer': 'EEG2_Channel'})\n",
      "(6, {'label': 'C4-A1', 'dimension': 'uV', 'sample_rate': 400.0, 'sample_frequency': 400.0, 'physical_max': 25.0, 'physical_min': -25.0, 'digital_max': 32767, 'digital_min': -32768, 'prefilter': 'High Cut:35 Hz,Low Cut:0.3 Hz,Notch:50 Hz', 'transducer': 'EEG2_Channel'})\n",
      "(7, {'label': 'O2-A1', 'dimension': 'uV', 'sample_rate': 400.0, 'sample_frequency': 400.0, 'physical_max': 25.0, 'physical_min': -25.0, 'digital_max': 32767, 'digital_min': -32768, 'prefilter': 'High Cut:35 Hz,Low Cut:0.3 Hz,Notch:50 Hz', 'transducer': 'EEG2_Channel'})\n",
      "(8, {'label': 'X1', 'dimension': 'uV', 'sample_rate': 400.0, 'sample_frequency': 400.0, 'physical_max': 101.0, 'physical_min': -101.0, 'digital_max': 32767, 'digital_min': -32768, 'prefilter': 'High Cut:70 Hz,Low Cut:10 Hz,Notch:50 Hz', 'transducer': 'Chin_Channel'})\n",
      "(9, {'label': 'X2', 'dimension': 'uV', 'sample_rate': 400.0, 'sample_frequency': 400.0, 'physical_max': 87.0, 'physical_min': -87.0, 'digital_max': 32767, 'digital_min': -32768, 'prefilter': 'Notch:50 Hz', 'transducer': 'EKG_Channel'})\n",
      "(10, {'label': 'X3', 'dimension': 'uV', 'sample_rate': 400.0, 'sample_frequency': 400.0, 'physical_max': 39.0, 'physical_min': -39.0, 'digital_max': 32767, 'digital_min': -32768, 'prefilter': 'High Cut:70 Hz,Low Cut:10 Hz,Notch:50 Hz', 'transducer': 'Leg_Channel'})\n",
      "(11, {'label': 'X4', 'dimension': 'uV', 'sample_rate': 400.0, 'sample_frequency': 400.0, 'physical_max': 313.0, 'physical_min': -313.0, 'digital_max': 32767, 'digital_min': -32768, 'prefilter': 'High Cut:70 Hz,Low Cut:10 Hz,Notch:50 Hz', 'transducer': 'Leg2_Channel'})\n",
      "(12, {'label': 'X5', 'dimension': 'uV', 'sample_rate': 400.0, 'sample_frequency': 400.0, 'physical_max': 612.0, 'physical_min': -612.0, 'digital_max': 32767, 'digital_min': -32768, 'prefilter': 'High Cut:70 Hz,Low Cut:10 Hz,Notch:50 Hz', 'transducer': 'Snore_Channel'})\n",
      "(13, {'label': 'X6', 'dimension': 'uV', 'sample_rate': 25.0, 'sample_frequency': 25.0, 'physical_max': 22.0, 'physical_min': -22.0, 'digital_max': 32767, 'digital_min': -32768, 'prefilter': '', 'transducer': 'Flow_Channel'})\n",
      "(14, {'label': 'DC3', 'dimension': 'uV', 'sample_rate': 50.0, 'sample_frequency': 50.0, 'physical_max': 3298.0, 'physical_min': -3298.0, 'digital_max': 32767, 'digital_min': -32768, 'prefilter': '', 'transducer': 'Flow2_Channel'})\n",
      "(15, {'label': 'X7', 'dimension': 'uV', 'sample_rate': 50.0, 'sample_frequency': 50.0, 'physical_max': 142.0, 'physical_min': -142.0, 'digital_max': 32767, 'digital_min': -32768, 'prefilter': '', 'transducer': 'Effort_Channel'})\n",
      "(16, {'label': 'X8', 'dimension': 'uV', 'sample_rate': 50.0, 'sample_frequency': 50.0, 'physical_max': 132.0, 'physical_min': -132.0, 'digital_max': 32767, 'digital_min': -32768, 'prefilter': '', 'transducer': 'Effort2_Channel'})\n",
      "(17, {'label': 'SaO2', 'dimension': '%', 'sample_rate': 25.0, 'sample_frequency': 25.0, 'physical_max': 100.0, 'physical_min': 0.0, 'digital_max': 32767, 'digital_min': -32768, 'prefilter': '', 'transducer': 'SaO2_Channel'})\n",
      "(18, {'label': 'DC8', 'dimension': '', 'sample_rate': 50.0, 'sample_frequency': 50.0, 'physical_max': 200.0, 'physical_min': 0.0, 'digital_max': 32767, 'digital_min': -32768, 'prefilter': '', 'transducer': 'BPOS_Channel'})\n",
      "12.5\n"
     ]
    }
   ],
   "source": [
    "plt.close(\"all\")\n",
    "group = 3\n",
    "subj = 2\n",
    "pref_mat = loadmat(f\"sleeptight dataset/subgroup{group}/{subj}/subject{subj}.mat\")\n",
    "pulse = pref_mat[\"X2\"].ravel()\n",
    "nfr = pulse.size // (30 * 200)\n",
    "stages1 = np.zeros(nfr)\n",
    "stages2 = np.zeros(nfr)\n",
    "with open(f\"sleeptight dataset/subgroup{group}/{subj}/{subj}_1.txt\", \"r\") as tf:\n",
    "    for idx in range (nfr):\n",
    "        stages1[idx] = int(tf.readline())\n",
    "with open(f\"sleeptight dataset/subgroup{group}/{subj}/{subj}_2.txt\", \"r\") as tf:\n",
    "    for idx in range (nfr):\n",
    "        stages2[idx] = int(tf.readline())\n",
    "gauss = np.exp(-0.5 * np.square((np.arange(401) - 200.0) / 15.0))\n",
    "psm = np.sqrt(correlate(np.square(pulse), gauss, mode=\"same\"))\n",
    "psm -= np.median(psm)\n",
    "subsamp = psm[::20].clip(-2000, 2000)\n",
    "origsamp = pulse[::20].clip(-2000, 2000)\n",
    "\n",
    "signals, signal_info, headers = edf.read_edf(f\"sleeptight dataset/subgroup{group}/{subj}/{subj}.rec\")\n",
    "print(*[(idx, info) for idx, info in enumerate(signal_info)], sep=\"\\n\")\n",
    "\n",
    "# _, ax = plt.subplots(1, 1)\n",
    "# ax.plot(signals[13])\n",
    "# # ax.plot(signals[14][::2])\n",
    "# ax.plot(np.arange(nfr) * 30 * 12.5, stages1 * 10)\n",
    "# ax.plot(np.arange(nfr) * 30 * 12.5, stages2 * 10)\n",
    "# plt.show()\n",
    "\n",
    "omega = 12.0\n",
    "fs = 12.5#float(signal_info[13][\"sample_frequency\"])\n",
    "print(fs)\n",
    "freqs = np.logspace(0.1, -1.4, 150)  # ~50-85 are breathing frequencies\n",
    "widths_morlet = omega * fs / (freqs[55:95] * 2 * np.pi)\n",
    "air_cwt = wavefinding_cwt(signals[13], widths_morlet, omega)\n",
    "mags = np.abs(air_cwt)\n",
    "\n",
    "_, (ax1, ax2) = plt.subplots(2, 1, sharex=True)\n",
    "ax1.plot(signals[13])\n",
    "ax1.plot(signals[15][::2] / 7)\n",
    "ax2.imshow(mags.clip(max=np.percentile(mags, 99.95)), aspect=\"auto\")\n",
    "ax2.plot(np.arange(nfr) * 30 * fs, stages1 * 2)\n",
    "ax2.plot(np.arange(nfr) * 30 * fs, stages2 * 2)\n",
    "plt.show()"
   ]
  },
  {
   "cell_type": "code",
   "execution_count": null,
   "id": "8aa0e149-2ce0-4c00-aba7-3a680f8aa782",
   "metadata": {},
   "outputs": [],
   "source": []
  }
 ],
 "metadata": {
  "kernelspec": {
   "display_name": "Python [conda env:sleepypi]",
   "language": "python",
   "name": "conda-env-sleepypi-py"
  },
  "language_info": {
   "codemirror_mode": {
    "name": "ipython",
    "version": 3
   },
   "file_extension": ".py",
   "mimetype": "text/x-python",
   "name": "python",
   "nbconvert_exporter": "python",
   "pygments_lexer": "ipython3",
   "version": "3.7.11"
  }
 },
 "nbformat": 4,
 "nbformat_minor": 5
}
